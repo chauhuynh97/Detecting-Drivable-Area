{
 "cells": [
  {
   "cell_type": "code",
   "execution_count": 1,
   "metadata": {},
   "outputs": [
    {
     "data": {
      "text/plain": [
       "(1280, 720)"
      ]
     },
     "execution_count": 1,
     "metadata": {},
     "output_type": "execute_result"
    }
   ],
   "source": [
    "\n",
    "#Sandesh\n",
    "import os\n",
    "import numpy as np\n",
    "from PIL import Image\n",
    "\n",
    "def LoadSceneAndLabel(dirnameScene, dirnameLabel, numImages):\n",
    "    count = 0\n",
    "    sceneX = []\n",
    "    sceneY = []\n",
    "    for sceneName in os.listdir(dirnameScene):\n",
    "        scene = Image.open(os.path.join(dirnameScene, sceneName))\n",
    "        sceneLabel = Image.open(os.path.join(dirnameLabel, sceneName[:-4]+\"_drivable_color.png\"))\n",
    "        #scene.show()\n",
    "        #sceneLabel.show()\n",
    "        #print(scene.size)\n",
    "        #print(sceneLabel.size)\n",
    "        sceneX.append(scene)\n",
    "        sceneY.append(sceneLabel)\n",
    "        count += 1\n",
    "        if count >= numImages:\n",
    "          break\n",
    "    return sceneX, sceneY\n",
    "\n",
    "dataX, dataY = LoadSceneAndLabel(dirnameScene=\"bdd100k/images/100k/train\", dirnameLabel=\"bdd100k/drivable_maps/color_labels/train\", numImages=500)\n",
    "valX, valY = LoadSceneAndLabel(dirnameScene=\"bdd100k/images/100k/val\", dirnameLabel=\"bdd100k/drivable_maps/color_labels/val\", numImages=20)\n",
    "\n",
    "dataX[0].size\n"
   ]
  },
  {
   "cell_type": "code",
   "execution_count": 2,
   "metadata": {},
   "outputs": [
    {
     "name": "stdout",
     "output_type": "stream",
     "text": [
      "(1280, 720)\n",
      "(1280, 720)\n",
      "(128, 72)\n"
     ]
    }
   ],
   "source": [
    "import math\n",
    "def compress(x, y, rate=0.5):\n",
    "    print((x[0].size))\n",
    "    xSize = math.floor(((x[0].size)[0])*rate)\n",
    "    ySize = math.floor(((y[0].size)[1])*rate)\n",
    "#     print(xSize)\n",
    "#     print(ySize)\n",
    "    sceneX = [img.resize([xSize, ySize]) for img in x]  \n",
    "    sceneY = [img.resize([xSize, ySize]) for img in y]  \n",
    "    #sceneX[0].show()\n",
    "    #sceneY[0].show()\n",
    "    return sceneX, sceneY\n",
    "\n",
    "# #print(SceneLabelPair[0][0].size)\n",
    "dataX, dataY = compress(dataX, dataY, rate=0.1)\n",
    "# print(SceneLabelPair[0][0].size)\n",
    "valX, valY = compress(valX, valY, rate=0.1)\n",
    "\n",
    "print(dataX[0].size)"
   ]
  },
  {
   "cell_type": "markdown",
   "metadata": {},
   "source": [
    "## maybe flatten y?"
   ]
  },
  {
   "cell_type": "code",
   "execution_count": 3,
   "metadata": {},
   "outputs": [],
   "source": [
    "# \n",
    "#convert non zero label to be the same number so it's not different based on different lane categorization\n",
    "\n",
    "def convert_to_array(x, y):\n",
    "    sceneX = []\n",
    "    sceneY = []\n",
    "    count = 0\n",
    "    for img in x:\n",
    "        img = img.convert('LA')  # convert to grayscale\n",
    "        img = np.squeeze(np.array(img)[:,:,0])\n",
    "        #divide by 255.0\n",
    "        img = np.divide(img, 255.0)\n",
    "        sceneX.append(img)\n",
    "    for img in y:\n",
    "        img = img.convert('LA')  # convert to grayscale\n",
    "        if count == 0:\n",
    "            img.show()\n",
    "        count = 1\n",
    "        img = np.squeeze(np.array(img)[:,:,0])\n",
    "        img = np.where(img > 0, 1, 0)\n",
    "        sceneY.append(img)\n",
    "#     img = np.squeeze(np.array(img)[:, :, 0]) #squeeze to remove the unnecessary dimension after conversion to grayscale\n",
    "#     label_img = np.squeeze(np.array(label_img)[:, :, 0])\n",
    "    return np.array(sceneX), np.array(sceneY)\n",
    "\n",
    "dataX, dataY = convert_to_array(dataX, dataY)\n",
    "valX, valY = convert_to_array(valX, valY)"
   ]
  },
  {
   "cell_type": "code",
   "execution_count": 4,
   "metadata": {},
   "outputs": [
    {
     "name": "stdout",
     "output_type": "stream",
     "text": [
      "500\n",
      "500\n"
     ]
    },
    {
     "data": {
      "text/plain": [
       "(500, 72, 128)"
      ]
     },
     "execution_count": 4,
     "metadata": {},
     "output_type": "execute_result"
    }
   ],
   "source": [
    "print(len(dataX))\n",
    "print(len(dataY))\n",
    "\n",
    "\n",
    "dataX.shape"
   ]
  },
  {
   "cell_type": "markdown",
   "metadata": {},
   "source": [
    "### Train Test Split"
   ]
  },
  {
   "cell_type": "code",
   "execution_count": 5,
   "metadata": {},
   "outputs": [
    {
     "name": "stdout",
     "output_type": "stream",
     "text": [
      "0.2857142857142857\n"
     ]
    }
   ],
   "source": [
    "from sklearn.model_selection import train_test_split\n",
    "\n",
    "split = 2/7.0\n",
    "print(split)\n",
    "\n",
    "trainX, testX, trainY, testY = train_test_split(dataX, dataY, test_size=split) \n"
   ]
  },
  {
   "cell_type": "code",
   "execution_count": 6,
   "metadata": {},
   "outputs": [],
   "source": [
    "train_num = trainX.shape[0]\n",
    "test_num = testX.shape[0]\n",
    "x_dim = trainX.shape[2]\n",
    "y_dim = trainX.shape[1]\n",
    "val_num = valX.shape[0]\n",
    "\n"
   ]
  },
  {
   "cell_type": "code",
   "execution_count": null,
   "metadata": {},
   "outputs": [],
   "source": []
  },
  {
   "cell_type": "markdown",
   "metadata": {},
   "source": [
    "# Pytorch CNN Model\n",
    "\n",
    "Module is the baseclass for all NN module:\n",
    "https://pytorch.org/docs/stable/generated/torch.nn.Module.html\n",
    "\n",
    "### Conv2D -> \n",
    "Conv2d(in_channels, out_channels, kernel_size, stride=1, padding=0, dilation=1, groups=1, bias=True, padding_mode='zeros')\n",
    "https://cs231n.github.io/convolutional-networks/\n",
    "out_channels = number of kernels (filters) used, so dim in the 3rd dim\n",
    "\n",
    "\n",
    "### BatchNorm2d ->\n",
    "BatchNorm2d(num_features, eps=1e-05, momentum=0.1, affine=True, track_running_stats=True)\n",
    "Batch normalization normalizes the activations of the network between layers in batches so that the batches have a mean of 0 and a variance of 1.\n",
    "param = num of channels\n",
    "\n",
    "### nn.Linear ->\n",
    "Linear(in_features, out_features, bias=True)\n",
    "\n"
   ]
  },
  {
   "cell_type": "markdown",
   "metadata": {},
   "source": [
    "### Convert to PyTorch types\n"
   ]
  },
  {
   "cell_type": "code",
   "execution_count": 7,
   "metadata": {},
   "outputs": [
    {
     "name": "stdout",
     "output_type": "stream",
     "text": [
      "[[[0.94901961 0.95294118 0.95294118 ... 0.47843137 0.50588235 0.49019608]\n",
      "  [0.95294118 0.94901961 0.95294118 ... 0.47058824 0.45882353 0.49411765]\n",
      "  [0.91764706 0.96078431 0.94901961 ... 0.51764706 0.26666667 0.2745098 ]\n",
      "  ...\n",
      "  [0.1254902  0.10588235 0.08627451 ... 0.10588235 0.10196078 0.10196078]\n",
      "  [0.03137255 0.02745098 0.02745098 ... 0.23529412 0.22352941 0.22745098]\n",
      "  [0.0745098  0.08235294 0.09803922 ... 0.46666667 0.35686275 0.29411765]]]\n",
      "(357, 1, 72, 128)\n",
      "torch.Size([357, 9216])\n",
      "[[[0.42745098 0.42745098 0.2745098  ... 0.03137255 0.02745098 0.02745098]\n",
      "  [0.41960784 0.34901961 0.28235294 ... 0.03137255 0.02745098 0.02745098]\n",
      "  [0.40784314 0.38823529 0.18823529 ... 0.03529412 0.03137255 0.02745098]\n",
      "  ...\n",
      "  [0.10588235 0.10196078 0.09019608 ... 0.36862745 0.36470588 0.36078431]\n",
      "  [0.02352941 0.02352941 0.02352941 ... 0.35686275 0.35294118 0.35294118]\n",
      "  [0.02745098 0.02745098 0.02745098 ... 0.34901961 0.34901961 0.34509804]]]\n",
      "(20, 1, 72, 128)\n"
     ]
    }
   ],
   "source": [
    "import torch\n",
    "# train\n",
    "\n",
    "trainX = trainX.reshape(train_num, 1, y_dim, x_dim).astype(float)\n",
    "print(trainX[0])\n",
    "print(trainX.shape)\n",
    "trainX  = torch.from_numpy(trainX).type(torch.FloatTensor)\n",
    "\n",
    "# trainY = trainY.reshape(train_num, 1, x_dim, y_dim).astype(float)\n",
    "# trainY  = torch.from_numpy(trainY)\n",
    "# print(trainY.shape)\n",
    "\n",
    "trainY = trainY.reshape(train_num, x_dim * y_dim).astype(float)\n",
    "#trainY  = torch.from_numpy(trainY).type(torch.LongTensor)\n",
    "trainY  = torch.from_numpy(trainY).type(torch.FloatTensor)\n",
    "print(trainY.shape)\n",
    "\n",
    "\n",
    "\n",
    "# val\n",
    "valX = valX.reshape(val_num, 1, y_dim, x_dim).astype(float)\n",
    "print(valX[0])\n",
    "print(valX.shape)\n",
    "valX  = torch.from_numpy(valX).type(torch.FloatTensor)\n",
    "\n",
    "# valY = valY.reshape(val_num, 1, x_dim, y_dim).astype(float)\n",
    "# valY  = torch.from_numpy(valY)\n",
    "\n",
    "\n",
    "valY = valY.reshape(val_num, x_dim * y_dim).astype(float)\n",
    "#valY  = torch.from_numpy(valY).type(torch.LongTensor)\n",
    "valY  = torch.from_numpy(valY).type(torch.FloatTensor)\n",
    "# //TODO Test\n",
    "\n",
    "\n"
   ]
  },
  {
   "cell_type": "code",
   "execution_count": 8,
   "metadata": {},
   "outputs": [
    {
     "data": {
      "text/plain": [
       "(torch.Size([357, 1, 72, 128]), torch.Size([357, 9216]))"
      ]
     },
     "execution_count": 8,
     "metadata": {},
     "output_type": "execute_result"
    }
   ],
   "source": [
    "trainX.shape, trainY.shape"
   ]
  },
  {
   "cell_type": "code",
   "execution_count": 9,
   "metadata": {
    "scrolled": false
   },
   "outputs": [],
   "source": [
    "# import torch\n",
    "\n",
    "# torch.cuda.current_device()\n",
    "# torch.cuda.is_available()"
   ]
  },
  {
   "cell_type": "code",
   "execution_count": 10,
   "metadata": {},
   "outputs": [
    {
     "name": "stdout",
     "output_type": "stream",
     "text": [
      "torch.Size([1, 1, 72, 128])\n"
     ]
    },
    {
     "data": {
      "text/plain": [
       "torch.Size([1, 3, 16, 30])"
      ]
     },
     "execution_count": 10,
     "metadata": {},
     "output_type": "execute_result"
    }
   ],
   "source": [
    "from torch.nn import Conv2d\n",
    "from torch.nn import Linear, ReLU, MSELoss, CrossEntropyLoss, Sequential, Conv2d, MaxPool2d, Module, Softmax, BatchNorm2d, Dropout, Flatten\n",
    "\n",
    "# calculating the size of output from convolution layers\n",
    "dat = trainX[:1].type(torch.FloatTensor)\n",
    "print(dat.size())\n",
    "#x = dat.to(device=device, dtype=torch.float)\n",
    "conv = Conv2d(1, 2, kernel_size=3, stride=1, padding=1)\n",
    "out = conv(dat)\n",
    "mp = MaxPool2d(kernel_size=2, stride=2)\n",
    "out = mp(out)\n",
    "conv2 = Conv2d(2, 3, kernel_size=5, stride=1, padding=1)\n",
    "out = conv2(out)\n",
    "bN = BatchNorm2d(3)\n",
    "out = bN(out)\n",
    "mp2 = MaxPool2d(kernel_size=3, stride=2)\n",
    "out = mp2(out)\n",
    "out.size()\n"
   ]
  },
  {
   "cell_type": "code",
   "execution_count": 30,
   "metadata": {},
   "outputs": [],
   "source": [
    "# PyTorch libraries and modules\n",
    "import torch\n",
    "from torch.autograd import Variable\n",
    "from torch.nn import Linear, Softmax, Sigmoid, ReLU, NLLLoss, MSELoss, CrossEntropyLoss, Sequential, Conv2d, MaxPool2d, Module, Softmax, BatchNorm2d, Dropout, Flatten\n",
    "from torch.optim import Adam, SGD\n",
    "import torch.nn as nn\n",
    "\n",
    "class CNN(Module):\n",
    "    def __init__(self):\n",
    "        super(CNN,self).__init__() #base class for all neural network modules\n",
    "        out_chan_1 = 2\n",
    "        out_chan_2 = 3\n",
    "        k_s_1 = 3\n",
    "        k_s_2 = 5\n",
    "        k_s_1_mp = 2 #mp = max pool\n",
    "        k_s_2_mp = 2\n",
    "        \n",
    "        num_neurons_1 = 10\n",
    "        \n",
    "        output_size = 9216 #depending on num of pixels\n",
    "        \n",
    "        self.cnn_layers = Sequential(\n",
    "            # Defining a 2D convolution layer\n",
    "            Conv2d(1, out_chan_1, kernel_size=k_s_1, stride=1, padding=1), \n",
    "            BatchNorm2d(out_chan_1), #just specify the num of output channels\n",
    "            ReLU(inplace=True),\n",
    "            MaxPool2d(kernel_size=k_s_1_mp, stride=2),\n",
    "            # Defining another 2D convolution layer\n",
    "            Conv2d(out_chan_1, out_chan_2, kernel_size=k_s_2, stride=1, padding=1),\n",
    "            BatchNorm2d(out_chan_2),\n",
    "            ReLU(inplace=True),\n",
    "            MaxPool2d(kernel_size=k_s_2_mp, stride=2)\n",
    "        )\n",
    "        \n",
    "        self.linear_layers = Sequential(\n",
    "            Linear(out_chan_2 * 31 * 17, num_neurons_1),\n",
    "            Softmax(dim=1),\n",
    "            #ReLU(inplace=True),\n",
    "            Linear(num_neurons_1,output_size),\n",
    "            Sigmoid() # map from 0 to 1\n",
    "            #Softmax(dim=1)\n",
    "            #Sign()\n",
    "            #ReLU(inplace=True)\n",
    "            \n",
    "        )\n",
    "        \n",
    "    # Defining the forward pass    \n",
    "    def forward(self, x):\n",
    "        \n",
    "        x = self.cnn_layers(x)\n",
    "        print(x.size())\n",
    "        #x=x.long()\n",
    "        x = x.view(x.size(0), -1)\n",
    "        x = self.linear_layers(x)\n",
    "        #x = x.float()\n",
    "        return x\n",
    "    \n",
    "\n",
    "# defining the model\n",
    "model = CNN()\n",
    "# defining the optimizer\n",
    "optimizer =  torch.optim.SGD(model.parameters(), lr=0.05, momentum=0.5, weight_decay=0.0005)\n",
    "\n",
    "#optimizer = Adam(model.parameters(), lr=0.05)\n",
    "\n",
    "# defining the loss function\n",
    "criterion = MSELoss()\n",
    "#criterion = CrossEntropyLoss()\n",
    "#criterion = nn.BCEWithLogitsLoss()\n",
    "#criterion = nn.BCELoss()\n",
    "\n",
    "\n",
    "# checking if GPU is available\n",
    "if torch.cuda.is_available():\n",
    "    model = model.cuda()\n",
    "    criterion = criterion.cuda()\n",
    "    \n",
    "# print(model)\n",
    "\n",
    "# trainX = trainX[:2].cuda()\n",
    "\n",
    "# output = model(Variable(trainX))\n",
    "# output\n",
    "\n",
    "\n",
    "\n",
    "def train(epoch, train_x, train_y, val_x, val_y):\n",
    "    model.train()\n",
    "    tr_loss = 0\n",
    "    # getting the training set\n",
    "    x_train, y_train = Variable(train_x), Variable(train_y)\n",
    "    # getting the validation set\n",
    "    x_val, y_val = Variable(val_x), Variable(val_y)\n",
    "    # converting the data into GPU format\n",
    "    if torch.cuda.is_available():\n",
    "        x_train = x_train.cuda()\n",
    "        y_train = y_train.cuda()\n",
    "        x_val = x_val.cuda()\n",
    "        y_val = y_val.cuda()\n",
    "\n",
    "    # clearing the Gradients of the model parameters\n",
    "    optimizer.zero_grad()\n",
    "    \n",
    "    # prediction for training and validation set\n",
    "    output_train = model(x_train)\n",
    "    output_val = model(x_val)\n",
    "\n",
    "    # computing the training and validation loss\n",
    "    print(output_train.shape)\n",
    "    print(y_train.shape)\n",
    "    loss_train = criterion(output_train, y_train)\n",
    "    loss_val = criterion(output_val, y_val)\n",
    "    train_losses.append(loss_train)\n",
    "    val_losses.append(loss_val)\n",
    "\n",
    "    # computing the updated weights of all the model parameters\n",
    "    loss_train.backward()\n",
    "    optimizer.step()\n",
    "    tr_loss = loss_train.item()\n",
    "    if epoch%2 == 0:\n",
    "        # printing the validation loss\n",
    "        print('Epoch : ',epoch+1, '\\t', 'loss :', loss_val)"
   ]
  },
  {
   "cell_type": "code",
   "execution_count": 32,
   "metadata": {},
   "outputs": [
    {
     "name": "stdout",
     "output_type": "stream",
     "text": [
      "torch.Size([357, 3, 17, 31])\n",
      "torch.Size([20, 3, 17, 31])\n",
      "torch.Size([357, 9216])\n",
      "torch.Size([357, 9216])\n",
      "Epoch :  1 \t loss : tensor(0.2525, grad_fn=<MseLossBackward>)\n",
      "torch.Size([357, 3, 17, 31])\n",
      "torch.Size([20, 3, 17, 31])\n",
      "torch.Size([357, 9216])\n",
      "torch.Size([357, 9216])\n",
      "torch.Size([357, 3, 17, 31])\n",
      "torch.Size([20, 3, 17, 31])\n",
      "torch.Size([357, 9216])\n",
      "torch.Size([357, 9216])\n",
      "Epoch :  3 \t loss : tensor(0.2525, grad_fn=<MseLossBackward>)\n",
      "torch.Size([357, 3, 17, 31])\n",
      "torch.Size([20, 3, 17, 31])\n",
      "torch.Size([357, 9216])\n",
      "torch.Size([357, 9216])\n",
      "torch.Size([357, 3, 17, 31])\n",
      "torch.Size([20, 3, 17, 31])\n",
      "torch.Size([357, 9216])\n",
      "torch.Size([357, 9216])\n",
      "Epoch :  5 \t loss : tensor(0.2525, grad_fn=<MseLossBackward>)\n",
      "torch.Size([357, 3, 17, 31])\n",
      "torch.Size([20, 3, 17, 31])\n",
      "torch.Size([357, 9216])\n",
      "torch.Size([357, 9216])\n",
      "torch.Size([357, 3, 17, 31])\n",
      "torch.Size([20, 3, 17, 31])\n",
      "torch.Size([357, 9216])\n",
      "torch.Size([357, 9216])\n",
      "Epoch :  7 \t loss : tensor(0.2525, grad_fn=<MseLossBackward>)\n",
      "torch.Size([357, 3, 17, 31])\n",
      "torch.Size([20, 3, 17, 31])\n",
      "torch.Size([357, 9216])\n",
      "torch.Size([357, 9216])\n",
      "torch.Size([357, 3, 17, 31])\n",
      "torch.Size([20, 3, 17, 31])\n",
      "torch.Size([357, 9216])\n",
      "torch.Size([357, 9216])\n",
      "Epoch :  9 \t loss : tensor(0.2525, grad_fn=<MseLossBackward>)\n",
      "torch.Size([357, 3, 17, 31])\n",
      "torch.Size([20, 3, 17, 31])\n",
      "torch.Size([357, 9216])\n",
      "torch.Size([357, 9216])\n",
      "torch.Size([357, 3, 17, 31])\n",
      "torch.Size([20, 3, 17, 31])\n",
      "torch.Size([357, 9216])\n",
      "torch.Size([357, 9216])\n",
      "Epoch :  11 \t loss : tensor(0.2525, grad_fn=<MseLossBackward>)\n",
      "torch.Size([357, 3, 17, 31])\n",
      "torch.Size([20, 3, 17, 31])\n",
      "torch.Size([357, 9216])\n",
      "torch.Size([357, 9216])\n",
      "torch.Size([357, 3, 17, 31])\n",
      "torch.Size([20, 3, 17, 31])\n",
      "torch.Size([357, 9216])\n",
      "torch.Size([357, 9216])\n",
      "Epoch :  13 \t loss : tensor(0.2525, grad_fn=<MseLossBackward>)\n",
      "torch.Size([357, 3, 17, 31])\n",
      "torch.Size([20, 3, 17, 31])\n",
      "torch.Size([357, 9216])\n",
      "torch.Size([357, 9216])\n",
      "torch.Size([357, 3, 17, 31])\n",
      "torch.Size([20, 3, 17, 31])\n",
      "torch.Size([357, 9216])\n",
      "torch.Size([357, 9216])\n",
      "Epoch :  15 \t loss : tensor(0.2525, grad_fn=<MseLossBackward>)\n",
      "torch.Size([357, 3, 17, 31])\n",
      "torch.Size([20, 3, 17, 31])\n",
      "torch.Size([357, 9216])\n",
      "torch.Size([357, 9216])\n",
      "torch.Size([357, 3, 17, 31])\n",
      "torch.Size([20, 3, 17, 31])\n",
      "torch.Size([357, 9216])\n",
      "torch.Size([357, 9216])\n",
      "Epoch :  17 \t loss : tensor(0.2525, grad_fn=<MseLossBackward>)\n",
      "torch.Size([357, 3, 17, 31])\n",
      "torch.Size([20, 3, 17, 31])\n",
      "torch.Size([357, 9216])\n",
      "torch.Size([357, 9216])\n",
      "torch.Size([357, 3, 17, 31])\n",
      "torch.Size([20, 3, 17, 31])\n",
      "torch.Size([357, 9216])\n",
      "torch.Size([357, 9216])\n",
      "Epoch :  19 \t loss : tensor(0.2525, grad_fn=<MseLossBackward>)\n",
      "torch.Size([357, 3, 17, 31])\n",
      "torch.Size([20, 3, 17, 31])\n",
      "torch.Size([357, 9216])\n",
      "torch.Size([357, 9216])\n",
      "torch.Size([357, 3, 17, 31])\n",
      "torch.Size([20, 3, 17, 31])\n",
      "torch.Size([357, 9216])\n",
      "torch.Size([357, 9216])\n",
      "Epoch :  21 \t loss : tensor(0.2525, grad_fn=<MseLossBackward>)\n",
      "torch.Size([357, 3, 17, 31])\n",
      "torch.Size([20, 3, 17, 31])\n",
      "torch.Size([357, 9216])\n",
      "torch.Size([357, 9216])\n",
      "torch.Size([357, 3, 17, 31])\n",
      "torch.Size([20, 3, 17, 31])\n",
      "torch.Size([357, 9216])\n",
      "torch.Size([357, 9216])\n",
      "Epoch :  23 \t loss : tensor(0.2525, grad_fn=<MseLossBackward>)\n",
      "torch.Size([357, 3, 17, 31])\n",
      "torch.Size([20, 3, 17, 31])\n",
      "torch.Size([357, 9216])\n",
      "torch.Size([357, 9216])\n",
      "torch.Size([357, 3, 17, 31])\n",
      "torch.Size([20, 3, 17, 31])\n",
      "torch.Size([357, 9216])\n",
      "torch.Size([357, 9216])\n",
      "Epoch :  25 \t loss : tensor(0.2525, grad_fn=<MseLossBackward>)\n",
      "torch.Size([357, 3, 17, 31])\n",
      "torch.Size([20, 3, 17, 31])\n",
      "torch.Size([357, 9216])\n",
      "torch.Size([357, 9216])\n",
      "torch.Size([357, 3, 17, 31])\n",
      "torch.Size([20, 3, 17, 31])\n",
      "torch.Size([357, 9216])\n",
      "torch.Size([357, 9216])\n",
      "Epoch :  27 \t loss : tensor(0.2525, grad_fn=<MseLossBackward>)\n",
      "torch.Size([357, 3, 17, 31])\n",
      "torch.Size([20, 3, 17, 31])\n",
      "torch.Size([357, 9216])\n",
      "torch.Size([357, 9216])\n",
      "torch.Size([357, 3, 17, 31])\n",
      "torch.Size([20, 3, 17, 31])\n",
      "torch.Size([357, 9216])\n",
      "torch.Size([357, 9216])\n",
      "Epoch :  29 \t loss : tensor(0.2525, grad_fn=<MseLossBackward>)\n",
      "torch.Size([357, 3, 17, 31])\n",
      "torch.Size([20, 3, 17, 31])\n",
      "torch.Size([357, 9216])\n",
      "torch.Size([357, 9216])\n",
      "torch.Size([357, 3, 17, 31])\n",
      "torch.Size([20, 3, 17, 31])\n",
      "torch.Size([357, 9216])\n",
      "torch.Size([357, 9216])\n",
      "Epoch :  31 \t loss : tensor(0.2525, grad_fn=<MseLossBackward>)\n",
      "torch.Size([357, 3, 17, 31])\n",
      "torch.Size([20, 3, 17, 31])\n",
      "torch.Size([357, 9216])\n",
      "torch.Size([357, 9216])\n",
      "torch.Size([357, 3, 17, 31])\n",
      "torch.Size([20, 3, 17, 31])\n",
      "torch.Size([357, 9216])\n",
      "torch.Size([357, 9216])\n",
      "Epoch :  33 \t loss : tensor(0.2525, grad_fn=<MseLossBackward>)\n",
      "torch.Size([357, 3, 17, 31])\n",
      "torch.Size([20, 3, 17, 31])\n",
      "torch.Size([357, 9216])\n",
      "torch.Size([357, 9216])\n",
      "torch.Size([357, 3, 17, 31])\n",
      "torch.Size([20, 3, 17, 31])\n",
      "torch.Size([357, 9216])\n",
      "torch.Size([357, 9216])\n",
      "Epoch :  35 \t loss : tensor(0.2525, grad_fn=<MseLossBackward>)\n",
      "torch.Size([357, 3, 17, 31])\n",
      "torch.Size([20, 3, 17, 31])\n",
      "torch.Size([357, 9216])\n",
      "torch.Size([357, 9216])\n",
      "torch.Size([357, 3, 17, 31])\n",
      "torch.Size([20, 3, 17, 31])\n",
      "torch.Size([357, 9216])\n",
      "torch.Size([357, 9216])\n",
      "Epoch :  37 \t loss : tensor(0.2525, grad_fn=<MseLossBackward>)\n",
      "torch.Size([357, 3, 17, 31])\n",
      "torch.Size([20, 3, 17, 31])\n",
      "torch.Size([357, 9216])\n",
      "torch.Size([357, 9216])\n",
      "torch.Size([357, 3, 17, 31])\n",
      "torch.Size([20, 3, 17, 31])\n",
      "torch.Size([357, 9216])\n",
      "torch.Size([357, 9216])\n",
      "Epoch :  39 \t loss : tensor(0.2525, grad_fn=<MseLossBackward>)\n",
      "torch.Size([357, 3, 17, 31])\n",
      "torch.Size([20, 3, 17, 31])\n",
      "torch.Size([357, 9216])\n",
      "torch.Size([357, 9216])\n",
      "torch.Size([357, 3, 17, 31])\n",
      "torch.Size([20, 3, 17, 31])\n",
      "torch.Size([357, 9216])\n",
      "torch.Size([357, 9216])\n",
      "Epoch :  41 \t loss : tensor(0.2525, grad_fn=<MseLossBackward>)\n",
      "torch.Size([357, 3, 17, 31])\n",
      "torch.Size([20, 3, 17, 31])\n",
      "torch.Size([357, 9216])\n",
      "torch.Size([357, 9216])\n",
      "torch.Size([357, 3, 17, 31])\n",
      "torch.Size([20, 3, 17, 31])\n",
      "torch.Size([357, 9216])\n",
      "torch.Size([357, 9216])\n",
      "Epoch :  43 \t loss : tensor(0.2525, grad_fn=<MseLossBackward>)\n",
      "torch.Size([357, 3, 17, 31])\n",
      "torch.Size([20, 3, 17, 31])\n",
      "torch.Size([357, 9216])\n",
      "torch.Size([357, 9216])\n",
      "torch.Size([357, 3, 17, 31])\n",
      "torch.Size([20, 3, 17, 31])\n",
      "torch.Size([357, 9216])\n",
      "torch.Size([357, 9216])\n",
      "Epoch :  45 \t loss : tensor(0.2525, grad_fn=<MseLossBackward>)\n",
      "torch.Size([357, 3, 17, 31])\n",
      "torch.Size([20, 3, 17, 31])\n",
      "torch.Size([357, 9216])\n",
      "torch.Size([357, 9216])\n",
      "torch.Size([357, 3, 17, 31])\n",
      "torch.Size([20, 3, 17, 31])\n",
      "torch.Size([357, 9216])\n",
      "torch.Size([357, 9216])\n",
      "Epoch :  47 \t loss : tensor(0.2525, grad_fn=<MseLossBackward>)\n",
      "torch.Size([357, 3, 17, 31])\n",
      "torch.Size([20, 3, 17, 31])\n",
      "torch.Size([357, 9216])\n",
      "torch.Size([357, 9216])\n",
      "torch.Size([357, 3, 17, 31])\n",
      "torch.Size([20, 3, 17, 31])\n",
      "torch.Size([357, 9216])\n",
      "torch.Size([357, 9216])\n",
      "Epoch :  49 \t loss : tensor(0.2525, grad_fn=<MseLossBackward>)\n",
      "torch.Size([357, 3, 17, 31])\n",
      "torch.Size([20, 3, 17, 31])\n",
      "torch.Size([357, 9216])\n",
      "torch.Size([357, 9216])\n"
     ]
    }
   ],
   "source": [
    "# defining the number of epochs\n",
    "n_epochs = 50\n",
    "# empty list to store training losses\n",
    "train_losses = []\n",
    "# empty list to store validation losses\n",
    "val_losses = []\n",
    "# training the model\n",
    "for epoch in range(n_epochs):\n",
    "    train(epoch, trainX, trainY, valX, valY)"
   ]
  },
  {
   "cell_type": "code",
   "execution_count": 13,
   "metadata": {},
   "outputs": [],
   "source": [
    "# import matplotlib.pyplot as plt \n",
    "# plt.plot(train_losses, label='Training loss')\n",
    "# plt.plot(val_losses, label='Validation loss')\n",
    "# plt.legend()\n",
    "# plt.show()"
   ]
  },
  {
   "cell_type": "markdown",
   "metadata": {},
   "source": [
    "#discussion with Chau\n",
    "\n",
    "should label data be 0 and 1 per pixel rather than whatever it currently is?\n",
    "should we normalize all the images to be closer to 1 rather than such large numbers?\n",
    "should just discussion on loss function -> i think mseloss would be best for pixel by pixel comparison?\n",
    "should final output be filtered using something other than nerual network?\n"
   ]
  },
  {
   "cell_type": "code",
   "execution_count": 33,
   "metadata": {},
   "outputs": [
    {
     "name": "stdout",
     "output_type": "stream",
     "text": [
      "torch.Size([1, 3, 17, 31])\n",
      "(9216,)\n",
      "[[0.51428044 0.43378332 0.57502514 ... 0.4416776  0.4225259  0.49711508]]\n",
      "[[  0.   0.   0. ...   0.   0.   0.]\n",
      " [  0.   0.   0. ...   0.   0.   0.]\n",
      " [  0.   0.   0. ...   0.   0.   0.]\n",
      " ...\n",
      " [  0.   0.   0. ... 255. 255. 255.]\n",
      " [  0.   0.   0. ... 255. 255. 255.]\n",
      " [  0.   0.   0. ... 255. 255. 255.]]\n",
      "[[255   0 255 ... 255   0 255]\n",
      " [  0   0   0 ... 255   0 255]\n",
      " [  0 255   0 ... 255   0 255]\n",
      " ...\n",
      " [255 255   0 ... 255 255   0]\n",
      " [255   0 255 ... 255   0   0]\n",
      " [255 255 255 ...   0   0   0]]\n"
     ]
    }
   ],
   "source": [
    "testSingle = valX[0:1]\n",
    "#testSingle = testSingle.cuda()\n",
    "y_pred = model(testSingle)\n",
    "\n",
    "\n",
    "out = y_pred.cpu().detach().numpy()\n",
    "\n",
    "print(valY[0].numpy().shape)\n",
    "print(out)\n",
    "\n",
    "final = np.where(out > np.mean(out), 1, 0)\n",
    "\n",
    "final = np.reshape(final, (72, 128))*255\n",
    "\n",
    "actual = ((np.reshape(valY[0].numpy(), (72, 128)))*255)\n",
    "\n",
    "print(actual)\n",
    "\n",
    "print(final)"
   ]
  },
  {
   "cell_type": "code",
   "execution_count": 34,
   "metadata": {},
   "outputs": [
    {
     "data": {
      "text/plain": [
       "<matplotlib.image.AxesImage at 0x7fbd08a64160>"
      ]
     },
     "execution_count": 34,
     "metadata": {},
     "output_type": "execute_result"
    },
    {
     "data": {
      "image/png": "[encoded data removed]",
      "text/plain": [
       "<Figure size 432x288 with 1 Axes>"
      ]
     },
     "metadata": {
      "needs_background": "light"
     },
     "output_type": "display_data"
    }
   ],
   "source": [
    "import matplotlib.pyplot as plt\n",
    "plt.imshow(actual, cmap=\"Greys\")"
   ]
  },
  {
   "cell_type": "code",
   "execution_count": 35,
   "metadata": {},
   "outputs": [
    {
     "data": {
      "text/plain": [
       "<matplotlib.image.AxesImage at 0x7fbd08a28e80>"
      ]
     },
     "execution_count": 35,
     "metadata": {},
     "output_type": "execute_result"
    },
    {
     "data": {
      "image/png": "[encoded data removed]",
      "text/plain": [
       "<Figure size 432x288 with 1 Axes>"
      ]
     },
     "metadata": {
      "needs_background": "light"
     },
     "output_type": "display_data"
    }
   ],
   "source": [
    "plt.imshow(final, cmap=\"Greys\")"
   ]
  },
  {
   "cell_type": "code",
   "execution_count": null,
   "metadata": {},
   "outputs": [],
   "source": []
  }
 ],
 "metadata": {
  "kernelspec": {
   "display_name": "Python 3",
   "language": "python",
   "name": "python3"
  },
  "language_info": {
   "codemirror_mode": {
    "name": "ipython",
    "version": 3
   },
   "file_extension": ".py",
   "mimetype": "text/x-python",
   "name": "python",
   "nbconvert_exporter": "python",
   "pygments_lexer": "ipython3",
   "version": "3.8.5"
  }
 },
 "nbformat": 4,
 "nbformat_minor": 5
}
