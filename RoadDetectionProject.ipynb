{
  "nbformat": 4,
  "nbformat_minor": 0,
  "metadata": {
    "colab": {
      "name": "RoadDetectionProject.ipynb",
      "provenance": [],
      "collapsed_sections": [],
      "include_colab_link": true
    },
    "kernelspec": {
      "name": "python3",
      "display_name": "Python 3"
    }
  },
  "cells": [
    {
      "cell_type": "markdown",
      "metadata": {
        "id": "view-in-github",
        "colab_type": "text"
      },
      "source": [
        "<a href=\"https://colab.research.google.com/github/chauhuynh97/Detecting-Drivable-Area/blob/main/RoadDetectionProject.ipynb\" target=\"_parent\"><img src=\"https://colab.research.google.com/assets/colab-badge.svg\" alt=\"Open In Colab\"/></a>"
      ]
    },
    {
      "cell_type": "code",
      "metadata": {
        "colab": {
          "base_uri": "https://localhost:8080/"
        },
        "id": "n-mgEXKcwtSt",
        "outputId": "67d17b65-8080-464e-a327-2074a2be6b6c"
      },
      "source": [
        "print(\"Hello\")"
      ],
      "execution_count": null,
      "outputs": [
        {
          "output_type": "stream",
          "text": [
            "Hello\n"
          ],
          "name": "stdout"
        }
      ]
    },
    {
      "cell_type": "code",
      "metadata": {
        "id": "8uivXcb6yKaF"
      },
      "source": [
        "print(\"This is Chau\")"
      ],
      "execution_count": null,
      "outputs": []
    },
    {
      "cell_type": "code",
      "metadata": {
        "id": "tT_5W1Znxq9A"
      },
      "source": [
        ""
      ],
      "execution_count": null,
      "outputs": []
    },
    {
      "cell_type": "markdown",
      "metadata": {
        "id": "cbEJD6k_zD0j"
      },
      "source": [
        "Data Preprocessing\r\n",
        "(Chau)\r\n"
      ]
    },
    {
      "cell_type": "code",
      "metadata": {
        "id": "m1vIcrT3zEZb"
      },
      "source": [
        "# load in data\n",
        "import os\n",
        "import numpy as np\n",
        "from PIL import Image\n",
        "\n",
        "def LoadDir(dirname):\n",
        "    imgs = []\n",
        "    for imgname in os.listdir(dirname):\n",
        "        img = Image.open(os.path.join(dirname, imgname))\n",
        "        #img = img.convert('LA')  # conver to grayscale\n",
        "        img = img.resize([20, 20])\n",
        "        \n",
        "        img = np.squeeze(np.array(img)[:, :, 0])\n",
        "        imgs.append(img)\n",
        "    return np.array(imgs)\n",
        "    \n",
        "\n",
        "train_imgs = LoadDir('bdd100k/images/100k/train')  \n",
        "print(train_imgs.shape)\n",
        "train_labels = LoadDir('bdd100k/drivable_maps/color_labels/train')  \n",
        "print(train_labels.shape)\n",
        "\n",
        "val_imgs = LoadDir('bdd100k/images/100k/val')\n",
        "print(val_imgs.shape)\n",
        "val_labels = LoadDir('bdd100k/drivable_maps/color_labels/val')\n",
        "print(test_imgs.shape)"
      ],
      "execution_count": null,
      "outputs": []
    },
    {
      "cell_type": "code",
      "metadata": {
        "colab": {
          "base_uri": "https://localhost:8080/"
        },
        "id": "aMe3Rip1Ycde",
        "outputId": "35869182-bfbf-4efb-c2d7-e509d4d7a32d"
      },
      "source": [
        "#Sandesh\n",
        "import os\n",
        "import numpy as np\n",
        "from PIL import Image\n",
        "\n",
        "def LoadDir(dirname):\n",
        "  count = 0\n",
        "  for imgname in os.listdir(dirname):\n",
        "    img = Image.open(os.path.join(dirname, imgname))\n",
        "    if \"5d1905d8-875b2482\" in imgname:\n",
        "      img.show()\n",
        "      print(imgname)\n",
        "      break\n",
        "    count += 1\n",
        "\n",
        "def LoadSceneAndLabel(dirnameScene, dirnameLabel, numImages):\n",
        "  count = 0\n",
        "  SceneLabelPair = []\n",
        "  for sceneName in os.listdir(dirnameScene):\n",
        "    scene = Image.open(os.path.join(dirnameScene, sceneName))\n",
        "    sceneLabel = Image.open(os.path.join(dirnameLabel, sceneName[:-4]+\"_drivable_color.png\"))\n",
        "    scene.show()\n",
        "    sceneLabel.show()\n",
        "    xy = (scene, sceneLabel)\n",
        "    SceneLabelPair.append(xy)\n",
        "    if count > numImages:\n",
        "      break\n",
        "    count += 1\n",
        "  return SceneLabelPair\n",
        "\n",
        "SceneLabelPair = LoadSceneAndLabel(dirnameScene=\"bdd100k_images/images/100k/train\", dirnameLabel=\"bdd100k_drivable_map/drivable_maps/color_labels/train\", numImages=5)\n",
        "\n",
        "LoadDir(\"bdd100k_drivable_map/drivable_maps/color_labels/train\")\n",
        "LoadDir(\"bdd100k_images/images/100k/train\")\n",
        "\n",
        "\n"
      ],
      "execution_count": null,
      "outputs": [
        {
          "output_type": "stream",
          "text": [
            "5d1905d8-875b2482_drivable_color.png\n",
            "5d1905d8-875b2482.jpg\n"
          ],
          "name": "stdout"
        }
      ]
    },
    {
      "cell_type": "code",
      "metadata": {
        "id": "e3xNz1RAhH1Y",
        "colab": {
          "base_uri": "https://localhost:8080/",
          "height": 404
        },
        "outputId": "d5c3558a-84cf-4e51-ce73-8227ac257c3f"
      },
      "source": [
        "#Chau\n",
        "import os\n",
        "import numpy as np\n",
        "from PIL import Image\n",
        "\n",
        "\n",
        "def LoadSceneAndLabel(dirnameScene, dirnameLabel):\n",
        "  count = 0\n",
        "  SceneLabelPair = []\n",
        "  for sceneName in os.listdir(dirnameScene):\n",
        "    scene = Image.open(os.path.join(dirnameScene, sceneName))\n",
        "    sceneLabel = Image.open(os.path.join(dirnameLabel, sceneName[:-4]+\"_drivable_color.png\"))\n",
        "    scene.show()\n",
        "    sceneLabel.show()\n",
        "    xy = (scene, sceneLabel)\n",
        "    SceneLabelPair.append(xy)\n",
        "    if count > 3:\n",
        "      break\n",
        "    count += 1\n",
        "  return SceneLabelPair\n",
        "\n",
        "SceneLabelPair = LoadSceneAndLabel(dirnameScene=\"bdd100k/images/100k/train\", dirnameLabel=\"bdd100k/drivable_maps/color_labels/train\")"
      ],
      "execution_count": null,
      "outputs": [
        {
          "output_type": "stream",
          "text": [
            "<ipython-input-16-c45d0b67eb1f>:16: FutureWarning: The input object of type 'JpegImageFile' is an array-like implementing one of the corresponding protocols (`__array__`, `__array_interface__` or `__array_struct__`); but not a sequence (or 0-D). In the future, this object will be coerced as if it was first converted using `np.array(obj)`. To retain the old behaviour, you have to either modify the type 'JpegImageFile', or assign to an empty array created with `np.empty(correct_shape, dtype=object)`.\n",
            "  xy = np.squeeze(np.array(xy)[:, :, :])\n",
            "<ipython-input-16-c45d0b67eb1f>:16: VisibleDeprecationWarning: Creating an ndarray from ragged nested sequences (which is a list-or-tuple of lists-or-tuples-or ndarrays with different lengths or shapes) is deprecated. If you meant to do this, you must specify 'dtype=object' when creating the ndarray.\n",
            "  xy = np.squeeze(np.array(xy)[:, :, :])\n"
          ],
          "name": "stderr"
        },
        {
          "output_type": "error",
          "ename": "IndexError",
          "evalue": "ignored",
          "traceback": [
            "\u001b[0;31m---------------------------------------------------------------------------\u001b[0m",
            "\u001b[0;31mIndexError\u001b[0m                                Traceback (most recent call last)",
            "\u001b[0;32m<ipython-input-16-c45d0b67eb1f>\u001b[0m in \u001b[0;36m<module>\u001b[0;34m\u001b[0m\n\u001b[1;32m     21\u001b[0m   \u001b[0;32mreturn\u001b[0m \u001b[0mSceneLabelPair\u001b[0m\u001b[0;34m\u001b[0m\u001b[0;34m\u001b[0m\u001b[0m\n\u001b[1;32m     22\u001b[0m \u001b[0;34m\u001b[0m\u001b[0m\n\u001b[0;32m---> 23\u001b[0;31m \u001b[0mSceneLabelPair\u001b[0m \u001b[0;34m=\u001b[0m \u001b[0mLoadSceneAndLabel\u001b[0m\u001b[0;34m(\u001b[0m\u001b[0mdirnameScene\u001b[0m\u001b[0;34m=\u001b[0m\u001b[0;34m\"bdd100k/images/100k/train\"\u001b[0m\u001b[0;34m,\u001b[0m \u001b[0mdirnameLabel\u001b[0m\u001b[0;34m=\u001b[0m\u001b[0;34m\"bdd100k/drivable_maps/color_labels/train\"\u001b[0m\u001b[0;34m)\u001b[0m\u001b[0;34m\u001b[0m\u001b[0;34m\u001b[0m\u001b[0m\n\u001b[0m",
            "\u001b[0;32m<ipython-input-16-c45d0b67eb1f>\u001b[0m in \u001b[0;36mLoadSceneAndLabel\u001b[0;34m(dirnameScene, dirnameLabel)\u001b[0m\n\u001b[1;32m     14\u001b[0m     \u001b[0msceneLabel\u001b[0m\u001b[0;34m.\u001b[0m\u001b[0mshow\u001b[0m\u001b[0;34m(\u001b[0m\u001b[0;34m)\u001b[0m\u001b[0;34m\u001b[0m\u001b[0;34m\u001b[0m\u001b[0m\n\u001b[1;32m     15\u001b[0m     \u001b[0mxy\u001b[0m \u001b[0;34m=\u001b[0m \u001b[0;34m(\u001b[0m\u001b[0mscene\u001b[0m\u001b[0;34m,\u001b[0m \u001b[0msceneLabel\u001b[0m\u001b[0;34m)\u001b[0m\u001b[0;34m\u001b[0m\u001b[0;34m\u001b[0m\u001b[0m\n\u001b[0;32m---> 16\u001b[0;31m     \u001b[0mxy\u001b[0m \u001b[0;34m=\u001b[0m \u001b[0mnp\u001b[0m\u001b[0;34m.\u001b[0m\u001b[0msqueeze\u001b[0m\u001b[0;34m(\u001b[0m\u001b[0mnp\u001b[0m\u001b[0;34m.\u001b[0m\u001b[0marray\u001b[0m\u001b[0;34m(\u001b[0m\u001b[0mxy\u001b[0m\u001b[0;34m)\u001b[0m\u001b[0;34m[\u001b[0m\u001b[0;34m:\u001b[0m\u001b[0;34m,\u001b[0m \u001b[0;34m:\u001b[0m\u001b[0;34m,\u001b[0m \u001b[0;34m:\u001b[0m\u001b[0;34m]\u001b[0m\u001b[0;34m)\u001b[0m\u001b[0;34m\u001b[0m\u001b[0;34m\u001b[0m\u001b[0m\n\u001b[0m\u001b[1;32m     17\u001b[0m     \u001b[0mSceneLabelPair\u001b[0m\u001b[0;34m.\u001b[0m\u001b[0mappend\u001b[0m\u001b[0;34m(\u001b[0m\u001b[0mxy\u001b[0m\u001b[0;34m)\u001b[0m\u001b[0;34m\u001b[0m\u001b[0;34m\u001b[0m\u001b[0m\n\u001b[1;32m     18\u001b[0m     \u001b[0;32mif\u001b[0m \u001b[0mcount\u001b[0m \u001b[0;34m>\u001b[0m \u001b[0;36m3\u001b[0m\u001b[0;34m:\u001b[0m\u001b[0;34m\u001b[0m\u001b[0;34m\u001b[0m\u001b[0m\n",
            "\u001b[0;31mIndexError\u001b[0m: too many indices for array: array is 1-dimensional, but 3 were indexed"
          ]
        }
      ]
    },
    {
      "cell_type": "code",
      "metadata": {
        "id": "LhU1ZNHrovuq"
      },
      "source": [
        "def compress(imgLabelpair)"
      ],
      "execution_count": null,
      "outputs": []
    },
    {
      "cell_type": "code",
      "metadata": {
        "id": "e8kU8xDGo7pF"
      },
      "source": [
        "def split_train_test(train_tuple)"
      ],
      "execution_count": null,
      "outputs": []
    },
    {
      "cell_type": "code",
      "metadata": {
        "id": "RBTvgZIzpGjv"
      },
      "source": [
        "class CNNTagger"
      ],
      "execution_count": null,
      "outputs": []
    },
    {
      "cell_type": "code",
      "metadata": {
        "id": "Gc9oYVnrpxxW"
      },
      "source": [
        "class CNNDataSet"
      ],
      "execution_count": null,
      "outputs": []
    },
    {
      "cell_type": "markdown",
      "metadata": {
        "id": "AD6_6BaQzE1j"
      },
      "source": [
        "CNN (Sandesh)"
      ]
    },
    {
      "cell_type": "code",
      "metadata": {
        "colab": {
          "base_uri": "https://localhost:8080/"
        },
        "id": "ys8zQ0QtzFFb",
        "outputId": "8ca98607-191f-4204-b645-4d27c032591a"
      },
      "source": [
        "print(\"CNN\")"
      ],
      "execution_count": null,
      "outputs": [
        {
          "output_type": "stream",
          "text": [
            "CNN\n"
          ],
          "name": "stdout"
        }
      ]
    },
    {
      "cell_type": "markdown",
      "metadata": {
        "id": "2NnHKD17zFWu"
      },
      "source": [
        "Results + Analysis"
      ]
    },
    {
      "cell_type": "code",
      "metadata": {
        "id": "L60qKcvrzFub"
      },
      "source": [
        ""
      ],
      "execution_count": null,
      "outputs": []
    }
  ]
}